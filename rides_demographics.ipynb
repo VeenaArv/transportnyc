{
 "cells": [
  {
   "cell_type": "markdown",
   "metadata": {},
   "source": [
    "### Get corresponding NTA demographics\n",
    "Uses `all_rides_nta.csv` *(saved from `get_nta()`)* and `demographics.csv` *(from transit project folder)*"
   ]
  },
  {
   "cell_type": "code",
   "execution_count": null,
   "metadata": {
    "collapsed": true
   },
   "outputs": [],
   "source": [
    "all_rides = pd.read_csv('all_rides_nta.csv') # ride_type, interval, latitude, longitude, cluster, nta_code\n",
    "demographics = pd.read_csv('demographics.csv')"
   ]
  },
  {
   "cell_type": "code",
   "execution_count": null,
   "metadata": {
    "collapsed": true
   },
   "outputs": [],
   "source": [
    "# Join all_rides table with demographics table on nta_code\n",
    "all_rides = all_rides.merge(demographics, on='nta_code')"
   ]
  },
  {
   "cell_type": "markdown",
   "metadata": {},
   "source": [
    "### Get NTA codes for each ride\n",
    "Results saved in shared file `all_rides_nta.csv` and used to get corresponding NTA demographics"
   ]
  },
  {
   "cell_type": "code",
   "execution_count": null,
   "metadata": {
    "collapsed": true
   },
   "outputs": [],
   "source": [
    "import pandas as pd"
   ]
  },
  {
   "cell_type": "code",
   "execution_count": null,
   "metadata": {
    "collapsed": true
   },
   "outputs": [],
   "source": [
    "all_rides = pd.read_csv('all_rides.csv') # ride_type, interval, latitude, longitude, cluster\n",
    "geographic = pd.read_csv('geographic.csv')"
   ]
  },
  {
   "cell_type": "code",
   "execution_count": null,
   "metadata": {
    "collapsed": true
   },
   "outputs": [],
   "source": [
    "# List of lists of tuples of polygon corners (x=longitude,y=latitude) for one NTA\n",
    "nta_names = geographic.columns\n",
    "nta_poly = []\n",
    "for nta in nta_names:\n",
    "    L = geographic[nta][~geographic[nta].isnull()]\n",
    "    it = iter(L)\n",
    "    nta_poly.append(list(zip(it,it)))"
   ]
  },
  {
   "cell_type": "code",
   "execution_count": null,
   "metadata": {
    "collapsed": true
   },
   "outputs": [],
   "source": [
    "from shapely.geometry import Point\n",
    "from shapely.geometry.polygon import Polygon"
   ]
  },
  {
   "cell_type": "code",
   "execution_count": null,
   "metadata": {
    "collapsed": true
   },
   "outputs": [],
   "source": [
    "# Find NTA that contains coordinate\n",
    "def get_nta(row):\n",
    "    point = Point(row['longitude'],row['latitude'])\n",
    "    for nta,poly in zip(nta_names,nta_poly):\n",
    "        polygon = Polygon(poly)\n",
    "        if polygon.contains(point):\n",
    "            return nta"
   ]
  },
  {
   "cell_type": "code",
   "execution_count": null,
   "metadata": {
    "collapsed": true
   },
   "outputs": [],
   "source": [
    "#!pip install pandarallel # Parallelize Pandas' apply()\n",
    "from pandarallel import pandarallel\n",
    "pandarallel.initialize()"
   ]
  },
  {
   "cell_type": "code",
   "execution_count": null,
   "metadata": {
    "collapsed": true
   },
   "outputs": [],
   "source": [
    "%%time\n",
    "all_rides['nta_code'] = all_rides.parallel_apply(get_nta, axis=1)\n",
    "all_rides = all_rides.drop('Unnamed: 0', axis=1)\n",
    "all_rides.to_csv('all_rides_nta.csv')"
   ]
  },
  {
   "cell_type": "code",
   "execution_count": null,
   "metadata": {
    "collapsed": true
   },
   "outputs": [],
   "source": []
  }
 ],
 "metadata": {
  "kernelspec": {
   "display_name": "Python [conda env:projects]",
   "language": "python",
   "name": "conda-env-projects-py"
  },
  "language_info": {
   "codemirror_mode": {
    "name": "ipython",
    "version": 3
   },
   "file_extension": ".py",
   "mimetype": "text/x-python",
   "name": "python",
   "nbconvert_exporter": "python",
   "pygments_lexer": "ipython3",
   "version": "3.5.3"
  }
 },
 "nbformat": 4,
 "nbformat_minor": 2
}

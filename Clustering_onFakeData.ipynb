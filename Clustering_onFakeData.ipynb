{
 "cells": [
  {
   "cell_type": "code",
   "execution_count": 4,
   "metadata": {},
   "outputs": [],
   "source": [
    "import numpy as np\n",
    "import pandas as pd\n",
    "import matplotlib.pyplot as plt\n",
    "from sklearn import cluster\n",
    "\n",
    "import seaborn as sns\n",
    "import pysal as ps\n",
    "import geopandas as gpd\n"
   ]
  },
  {
   "cell_type": "code",
   "execution_count": 51,
   "metadata": {},
   "outputs": [],
   "source": [
    "def clean_mta(df):\n",
    "    df['interval'] = pd.to_datetime(df['datetime']).dt.hour\n",
    "    df['ride_type'] = 'mta'\n",
    "    columns = df.columns\n",
    "    repeats = df['new_entries'].values\n",
    "    df = pd.DataFrame(np.repeat(df.values, repeats, axis=0))\n",
    "    df.columns = columns    \n",
    "    return df[['ride_type','interval','latitude','longitude']]\n",
    "mta = pd.read_csv(r'D:\\DS4A\\Transportation\\mta_trips.csv', nrows=500)\n",
    "mta = clean_mta(mta)"
   ]
  },
  {
   "cell_type": "code",
   "execution_count": 23,
   "metadata": {},
   "outputs": [],
   "source": [
    "df = pd.read_csv(r'D:\\DS4A\\Transportation\\uber_trips_2014.csv')\n",
    "df = df.head(500)\n",
    "del df['base']"
   ]
  },
  {
   "cell_type": "code",
   "execution_count": 24,
   "metadata": {},
   "outputs": [
    {
     "data": {
      "text/html": [
       "<div>\n",
       "<style scoped>\n",
       "    .dataframe tbody tr th:only-of-type {\n",
       "        vertical-align: middle;\n",
       "    }\n",
       "\n",
       "    .dataframe tbody tr th {\n",
       "        vertical-align: top;\n",
       "    }\n",
       "\n",
       "    .dataframe thead th {\n",
       "        text-align: right;\n",
       "    }\n",
       "</style>\n",
       "<table border=\"1\" class=\"dataframe\">\n",
       "  <thead>\n",
       "    <tr style=\"text-align: right;\">\n",
       "      <th></th>\n",
       "      <th>pickup_datetime</th>\n",
       "      <th>pickup_latitude</th>\n",
       "      <th>pickup_longitude</th>\n",
       "    </tr>\n",
       "  </thead>\n",
       "  <tbody>\n",
       "    <tr>\n",
       "      <th>0</th>\n",
       "      <td>4/1/14 0:11</td>\n",
       "      <td>40.7690</td>\n",
       "      <td>-73.9549</td>\n",
       "    </tr>\n",
       "    <tr>\n",
       "      <th>1</th>\n",
       "      <td>4/1/14 0:17</td>\n",
       "      <td>40.7267</td>\n",
       "      <td>-74.0345</td>\n",
       "    </tr>\n",
       "    <tr>\n",
       "      <th>2</th>\n",
       "      <td>4/1/14 0:21</td>\n",
       "      <td>40.7316</td>\n",
       "      <td>-73.9873</td>\n",
       "    </tr>\n",
       "    <tr>\n",
       "      <th>3</th>\n",
       "      <td>4/1/14 0:28</td>\n",
       "      <td>40.7588</td>\n",
       "      <td>-73.9776</td>\n",
       "    </tr>\n",
       "    <tr>\n",
       "      <th>4</th>\n",
       "      <td>4/1/14 0:33</td>\n",
       "      <td>40.7594</td>\n",
       "      <td>-73.9722</td>\n",
       "    </tr>\n",
       "    <tr>\n",
       "      <th>5</th>\n",
       "      <td>4/1/14 0:33</td>\n",
       "      <td>40.7383</td>\n",
       "      <td>-74.0403</td>\n",
       "    </tr>\n",
       "    <tr>\n",
       "      <th>6</th>\n",
       "      <td>4/1/14 0:39</td>\n",
       "      <td>40.7223</td>\n",
       "      <td>-73.9887</td>\n",
       "    </tr>\n",
       "    <tr>\n",
       "      <th>7</th>\n",
       "      <td>4/1/14 0:45</td>\n",
       "      <td>40.7620</td>\n",
       "      <td>-73.9790</td>\n",
       "    </tr>\n",
       "    <tr>\n",
       "      <th>8</th>\n",
       "      <td>4/1/14 0:55</td>\n",
       "      <td>40.7524</td>\n",
       "      <td>-73.9960</td>\n",
       "    </tr>\n",
       "    <tr>\n",
       "      <th>9</th>\n",
       "      <td>4/1/14 1:01</td>\n",
       "      <td>40.7575</td>\n",
       "      <td>-73.9846</td>\n",
       "    </tr>\n",
       "    <tr>\n",
       "      <th>10</th>\n",
       "      <td>4/1/14 1:19</td>\n",
       "      <td>40.7256</td>\n",
       "      <td>-73.9869</td>\n",
       "    </tr>\n",
       "    <tr>\n",
       "      <th>11</th>\n",
       "      <td>4/1/14 1:48</td>\n",
       "      <td>40.7591</td>\n",
       "      <td>-73.9684</td>\n",
       "    </tr>\n",
       "    <tr>\n",
       "      <th>12</th>\n",
       "      <td>4/1/14 1:49</td>\n",
       "      <td>40.7271</td>\n",
       "      <td>-73.9803</td>\n",
       "    </tr>\n",
       "    <tr>\n",
       "      <th>13</th>\n",
       "      <td>4/1/14 2:11</td>\n",
       "      <td>40.6463</td>\n",
       "      <td>-73.7896</td>\n",
       "    </tr>\n",
       "    <tr>\n",
       "      <th>14</th>\n",
       "      <td>4/1/14 2:25</td>\n",
       "      <td>40.7564</td>\n",
       "      <td>-73.9167</td>\n",
       "    </tr>\n",
       "    <tr>\n",
       "      <th>15</th>\n",
       "      <td>4/1/14 2:31</td>\n",
       "      <td>40.7666</td>\n",
       "      <td>-73.9531</td>\n",
       "    </tr>\n",
       "    <tr>\n",
       "      <th>16</th>\n",
       "      <td>4/1/14 2:43</td>\n",
       "      <td>40.7580</td>\n",
       "      <td>-73.9761</td>\n",
       "    </tr>\n",
       "    <tr>\n",
       "      <th>17</th>\n",
       "      <td>4/1/14 3:22</td>\n",
       "      <td>40.7238</td>\n",
       "      <td>-73.9821</td>\n",
       "    </tr>\n",
       "    <tr>\n",
       "      <th>18</th>\n",
       "      <td>4/1/14 3:35</td>\n",
       "      <td>40.7531</td>\n",
       "      <td>-74.0039</td>\n",
       "    </tr>\n",
       "    <tr>\n",
       "      <th>19</th>\n",
       "      <td>4/1/14 3:35</td>\n",
       "      <td>40.7389</td>\n",
       "      <td>-74.0393</td>\n",
       "    </tr>\n",
       "  </tbody>\n",
       "</table>\n",
       "</div>"
      ],
      "text/plain": [
       "   pickup_datetime  pickup_latitude  pickup_longitude\n",
       "0      4/1/14 0:11          40.7690          -73.9549\n",
       "1      4/1/14 0:17          40.7267          -74.0345\n",
       "2      4/1/14 0:21          40.7316          -73.9873\n",
       "3      4/1/14 0:28          40.7588          -73.9776\n",
       "4      4/1/14 0:33          40.7594          -73.9722\n",
       "5      4/1/14 0:33          40.7383          -74.0403\n",
       "6      4/1/14 0:39          40.7223          -73.9887\n",
       "7      4/1/14 0:45          40.7620          -73.9790\n",
       "8      4/1/14 0:55          40.7524          -73.9960\n",
       "9      4/1/14 1:01          40.7575          -73.9846\n",
       "10     4/1/14 1:19          40.7256          -73.9869\n",
       "11     4/1/14 1:48          40.7591          -73.9684\n",
       "12     4/1/14 1:49          40.7271          -73.9803\n",
       "13     4/1/14 2:11          40.6463          -73.7896\n",
       "14     4/1/14 2:25          40.7564          -73.9167\n",
       "15     4/1/14 2:31          40.7666          -73.9531\n",
       "16     4/1/14 2:43          40.7580          -73.9761\n",
       "17     4/1/14 3:22          40.7238          -73.9821\n",
       "18     4/1/14 3:35          40.7531          -74.0039\n",
       "19     4/1/14 3:35          40.7389          -74.0393"
      ]
     },
     "execution_count": 24,
     "metadata": {},
     "output_type": "execute_result"
    }
   ],
   "source": [
    "df.head(20)"
   ]
  },
  {
   "cell_type": "code",
   "execution_count": 25,
   "metadata": {},
   "outputs": [],
   "source": [
    "df['hour'] = pd.to_datetime(df['pickup_datetime']).dt.hour\n",
    "#df['interval'] = df['hour']//4"
   ]
  },
  {
   "cell_type": "code",
   "execution_count": 27,
   "metadata": {},
   "outputs": [
    {
     "data": {
      "text/html": [
       "<div>\n",
       "<style scoped>\n",
       "    .dataframe tbody tr th:only-of-type {\n",
       "        vertical-align: middle;\n",
       "    }\n",
       "\n",
       "    .dataframe tbody tr th {\n",
       "        vertical-align: top;\n",
       "    }\n",
       "\n",
       "    .dataframe thead th {\n",
       "        text-align: right;\n",
       "    }\n",
       "</style>\n",
       "<table border=\"1\" class=\"dataframe\">\n",
       "  <thead>\n",
       "    <tr style=\"text-align: right;\">\n",
       "      <th></th>\n",
       "      <th>pickup_latitude</th>\n",
       "      <th>pickup_longitude</th>\n",
       "      <th>hour</th>\n",
       "    </tr>\n",
       "  </thead>\n",
       "  <tbody>\n",
       "    <tr>\n",
       "      <th>0</th>\n",
       "      <td>40.7690</td>\n",
       "      <td>-73.9549</td>\n",
       "      <td>0</td>\n",
       "    </tr>\n",
       "    <tr>\n",
       "      <th>1</th>\n",
       "      <td>40.7267</td>\n",
       "      <td>-74.0345</td>\n",
       "      <td>0</td>\n",
       "    </tr>\n",
       "    <tr>\n",
       "      <th>2</th>\n",
       "      <td>40.7316</td>\n",
       "      <td>-73.9873</td>\n",
       "      <td>0</td>\n",
       "    </tr>\n",
       "    <tr>\n",
       "      <th>3</th>\n",
       "      <td>40.7588</td>\n",
       "      <td>-73.9776</td>\n",
       "      <td>0</td>\n",
       "    </tr>\n",
       "    <tr>\n",
       "      <th>4</th>\n",
       "      <td>40.7594</td>\n",
       "      <td>-73.9722</td>\n",
       "      <td>0</td>\n",
       "    </tr>\n",
       "  </tbody>\n",
       "</table>\n",
       "</div>"
      ],
      "text/plain": [
       "   pickup_latitude  pickup_longitude  hour\n",
       "0          40.7690          -73.9549     0\n",
       "1          40.7267          -74.0345     0\n",
       "2          40.7316          -73.9873     0\n",
       "3          40.7588          -73.9776     0\n",
       "4          40.7594          -73.9722     0"
      ]
     },
     "execution_count": 27,
     "metadata": {},
     "output_type": "execute_result"
    }
   ],
   "source": [
    "df = df[['pickup_latitude', 'pickup_longitude', 'hour']]"
   ]
  },
  {
   "cell_type": "code",
   "execution_count": 29,
   "metadata": {},
   "outputs": [
    {
     "data": {
      "text/plain": [
       "array([[ 40.769 , -73.9549,   0.    ],\n",
       "       [ 40.7267, -74.0345,   0.    ],\n",
       "       [ 40.7316, -73.9873,   0.    ],\n",
       "       ...,\n",
       "       [ 40.7593, -73.9745,  15.    ],\n",
       "       [ 40.7284, -74.0071,  15.    ],\n",
       "       [ 40.7079, -74.0093,  15.    ]])"
      ]
     },
     "execution_count": 29,
     "metadata": {},
     "output_type": "execute_result"
    }
   ],
   "source": [
    "X = df.to_numpy()"
   ]
  },
  {
   "cell_type": "markdown",
   "metadata": {},
   "source": [
    "Clustering"
   ]
  },
  {
   "cell_type": "code",
   "execution_count": 40,
   "metadata": {},
   "outputs": [],
   "source": [
    "from matplotlib import pyplot as plt\n",
    "from sklearn.datasets.samples_generator import make_blobs\n",
    "from sklearn.cluster import KMeans"
   ]
  },
  {
   "cell_type": "code",
   "execution_count": 31,
   "metadata": {},
   "outputs": [
    {
     "data": {
      "image/png": "[encoded data removed]",
      "text/plain": [
       "<Figure size 432x288 with 1 Axes>"
      ]
     },
     "metadata": {
      "needs_background": "light"
     },
     "output_type": "display_data"
    }
   ],
   "source": [
    "wcss = []\n",
    "for i in range(1, 10):\n",
    "    kmeans = KMeans(n_clusters=i, random_state=42)\n",
    "    kmeans.fit(X)\n",
    "    wcss.append(kmeans.inertia_)\n",
    "plt.plot(range(1, 10), wcss)\n",
    "plt.title('Elbow Method')\n",
    "plt.xlabel('Number of clusters')\n",
    "plt.show()"
   ]
  },
  {
   "cell_type": "code",
   "execution_count": 48,
   "metadata": {},
   "outputs": [],
   "source": [
    "km = KMeans(n_clusters=2, init='k-means++', random_state=42) # initialize\n",
    "km.fit(X)\n",
    "c = km.predict(X) # classify into 2 clusters\n"
   ]
  },
  {
   "cell_type": "code",
   "execution_count": 49,
   "metadata": {},
   "outputs": [
    {
     "data": {
      "image/png": "[encoded data removed]",
      "text/plain": [
       "<Figure size 432x288 with 1 Axes>"
      ]
     },
     "metadata": {
      "needs_background": "light"
     },
     "output_type": "display_data"
    }
   ],
   "source": [
    "plt.scatter(x = X[:,0], y = X[:,1], c=c)\n",
    "plt.show()\n"
   ]
  },
  {
   "cell_type": "code",
   "execution_count": null,
   "metadata": {},
   "outputs": [],
   "source": []
  }
 ],
 "metadata": {
  "kernelspec": {
   "display_name": "Python 3",
   "language": "python",
   "name": "python3"
  },
  "language_info": {
   "codemirror_mode": {
    "name": "ipython",
    "version": 3
   },
   "file_extension": ".py",
   "mimetype": "text/x-python",
   "name": "python",
   "nbconvert_exporter": "python",
   "pygments_lexer": "ipython3",
   "version": "3.7.3"
  }
 },
 "nbformat": 4,
 "nbformat_minor": 2
}

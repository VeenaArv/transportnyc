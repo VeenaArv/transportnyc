{
 "cells": [
  {
   "cell_type": "code",
   "execution_count": null,
   "metadata": {},
   "outputs": [],
   "source": [
    "import pandas as pd"
   ]
  },
  {
   "cell_type": "code",
   "execution_count": null,
   "metadata": {},
   "outputs": [],
   "source": [
    "mta_trips  = pd.read_csv('Transportation/mta_trips.csv.gz')\n",
    "uber_trips_2014  = pd.read_csv('Transportation/uber_trips_2014.csv.gz')\n",
    "green_trips = pd.read_csv('Transportation/green_trips.csv.gz')\n",
    "yellow_trips = pd.read_csv('yellow_trips.csv.gz')\n",
    "geographic = pd.read_csv('geographic.csv')\\"
   ]
  },
  {
   "cell_type": "code",
   "execution_count": null,
   "metadata": {},
   "outputs": [],
   "source": [
    "###### helper functions to find nta of a coordinate ################\n",
    "\n",
    "# x_list contains the x coordinates of corners in the polygon\n",
    "# y_list contains the y coordinates of corners in the polygon\n",
    "# n_corners is the number of corners\n",
    "# x, y is the coordinate that we check if in polygon\n",
    "def point_in_polygon(poly_x, poly_y, n_corners, x, y):\n",
    "    odd_nodes = False\n",
    "    j = n_corners - 1\n",
    "    for i in range(j):\n",
    "        if ((poly_y[i] < y and poly_y[j] >= y) or (poly_y[j] < y and poly_y[i] >= y)):\n",
    "            if poly_x[i] + (y - poly_y[i]) / (poly_y[j] - poly_y[i]) * (poly_x[j] - poly_x[i]) < x:\n",
    "                oddNodes = not oddNodes\n",
    "        j = i\n",
    "    return oddNodes\n",
    "\n",
    "# poly_nta is a list of nta tuples (nta_name, poly_x, poly_y, n_corners)\n",
    "# returns the name of nta that contains the x,y coordinate \n",
    "def get_nta(poly_nta, x, y)\n",
    "    for nta_tuple in poly_nta\n",
    "        if (point_in_polygon(nta_tupe[1], nta_tuple[2], nta_tuple[3], x, y)):\n",
    "            return nta_tuple[0]"
   ]
  },
  {
   "cell_type": "code",
   "execution_count": null,
   "metadata": {},
   "outputs": [],
   "source": [
    "poly_nta = []\n",
    "for index, row in geographic.iterrows():\n",
    "    coords = list(row)\n",
    "    poly_x = [coords[x] for x in range(1, len(coords) - 1, 2)]\n",
    "    poly_y = [coords[y] for y in range(2, len(coords), 2)]\n",
    "    n_corners = coords/2\n",
    "    poly_nta.append((coords[0],poly_x, poly_y, n_corners))\n",
    "    print(\"index = \" , index)\n",
    "    print(coords)\n",
    "    print(poly_x)\n",
    "    print(poly_y)\n"
   ]
  },
  {
   "cell_type": "code",
   "execution_count": null,
   "metadata": {},
   "outputs": [],
   "source": []
  }
 ],
 "metadata": {
  "kernelspec": {
   "display_name": "Python 3",
   "language": "python",
   "name": "python3"
  },
  "language_info": {
   "codemirror_mode": {
    "name": "ipython",
    "version": 3
   },
   "file_extension": ".py",
   "mimetype": "text/x-python",
   "name": "python",
   "nbconvert_exporter": "python",
   "pygments_lexer": "ipython3",
   "version": "3.7.3"
  }
 },
 "nbformat": 4,
 "nbformat_minor": 2
}

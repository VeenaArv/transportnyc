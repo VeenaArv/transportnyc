{
 "cells": [
  {
   "cell_type": "markdown",
   "metadata": {
    "colab_type": "text",
    "id": "6izJM5bYj4fT"
   },
   "source": [
    "Import packages"
   ]
  },
  {
   "cell_type": "code",
   "execution_count": 0,
   "metadata": {
    "colab": {},
    "colab_type": "code",
    "id": "dsF-w1vzj3Rd"
   },
   "outputs": [],
   "source": [
    "import pandas as pd\n",
    "import numpy as np\n",
    "import random\n",
    "import matplotlib.pyplot as plt\n",
    "from sklearn import cluster\n",
    "from sklearn.cluster import KMeans"
   ]
  },
  {
   "cell_type": "markdown",
   "metadata": {
    "colab_type": "text",
    "id": "jaR8r0oCkDN3"
   },
   "source": [
    "Import data"
   ]
  },
  {
   "cell_type": "code",
   "execution_count": 0,
   "metadata": {
    "colab": {},
    "colab_type": "code",
    "id": "RYQ6AIeUkF3O"
   },
   "outputs": [],
   "source": [
    "mta  = pd.read_csv('mta_trips.csv')\n",
    "uber  = pd.read_csv('uber_trips_2014.csv')\n",
    "green = pd.read_csv('green_trips_new_2.csv')\n",
    "yellow = pd.read_csv('yellow_trips_new.csv')"
   ]
  },
  {
   "cell_type": "markdown",
   "metadata": {
    "colab_type": "text",
    "id": "JiKpZoLIk4p7"
   },
   "source": [
    "Join tables"
   ]
  },
  {
   "cell_type": "code",
   "execution_count": 0,
   "metadata": {
    "colab": {},
    "colab_type": "code",
    "id": "JyYV2kwV6eMx"
   },
   "outputs": [],
   "source": [
    "mta =  mta.sample(n = 100000, random_state=42)"
   ]
  },
  {
   "cell_type": "code",
   "execution_count": 0,
   "metadata": {
    "colab": {},
    "colab_type": "code",
    "id": "rWLmX654k76w"
   },
   "outputs": [],
   "source": [
    "def clean_mta(df):\n",
    "    df['interval'] = pd.to_datetime(df['datetime']).dt.hour\n",
    "    df['ride_type'] = 'mta'\n",
    "    columns = df.columns\n",
    "    repeats = df['new_entries'].values\n",
    "    df = pd.DataFrame(np.repeat(df.values, repeats, axis=0))\n",
    "    df.columns = columns    \n",
    "    return df[['ride_type','interval','latitude','longitude']]"
   ]
  },
  {
   "cell_type": "code",
   "execution_count": 5,
   "metadata": {
    "colab": {
     "base_uri": "https://localhost:8080/",
     "height": 204
    },
    "colab_type": "code",
    "id": "S2XymUV2k9hr",
    "outputId": "c926a423-8fc8-4b80-f6b5-d4bd3d88750b"
   },
   "outputs": [
    {
     "data": {
      "text/html": [
       "<div>\n",
       "<style scoped>\n",
       "    .dataframe tbody tr th:only-of-type {\n",
       "        vertical-align: middle;\n",
       "    }\n",
       "\n",
       "    .dataframe tbody tr th {\n",
       "        vertical-align: top;\n",
       "    }\n",
       "\n",
       "    .dataframe thead th {\n",
       "        text-align: right;\n",
       "    }\n",
       "</style>\n",
       "<table border=\"1\" class=\"dataframe\">\n",
       "  <thead>\n",
       "    <tr style=\"text-align: right;\">\n",
       "      <th></th>\n",
       "      <th>ride_type</th>\n",
       "      <th>interval</th>\n",
       "      <th>latitude</th>\n",
       "      <th>longitude</th>\n",
       "    </tr>\n",
       "  </thead>\n",
       "  <tbody>\n",
       "    <tr>\n",
       "      <th>0</th>\n",
       "      <td>mta</td>\n",
       "      <td>20</td>\n",
       "      <td>40.7571</td>\n",
       "      <td>-73.9719</td>\n",
       "    </tr>\n",
       "    <tr>\n",
       "      <th>1</th>\n",
       "      <td>mta</td>\n",
       "      <td>20</td>\n",
       "      <td>40.7571</td>\n",
       "      <td>-73.9719</td>\n",
       "    </tr>\n",
       "    <tr>\n",
       "      <th>2</th>\n",
       "      <td>mta</td>\n",
       "      <td>20</td>\n",
       "      <td>40.7571</td>\n",
       "      <td>-73.9719</td>\n",
       "    </tr>\n",
       "    <tr>\n",
       "      <th>3</th>\n",
       "      <td>mta</td>\n",
       "      <td>20</td>\n",
       "      <td>40.7571</td>\n",
       "      <td>-73.9719</td>\n",
       "    </tr>\n",
       "    <tr>\n",
       "      <th>4</th>\n",
       "      <td>mta</td>\n",
       "      <td>20</td>\n",
       "      <td>40.7571</td>\n",
       "      <td>-73.9719</td>\n",
       "    </tr>\n",
       "  </tbody>\n",
       "</table>\n",
       "</div>"
      ],
      "text/plain": [
       "  ride_type interval latitude longitude\n",
       "0       mta       20  40.7571  -73.9719\n",
       "1       mta       20  40.7571  -73.9719\n",
       "2       mta       20  40.7571  -73.9719\n",
       "3       mta       20  40.7571  -73.9719\n",
       "4       mta       20  40.7571  -73.9719"
      ]
     },
     "execution_count": 5,
     "metadata": {
      "tags": []
     },
     "output_type": "execute_result"
    }
   ],
   "source": [
    "mta = clean_mta(mta)\n",
    "mta.head()"
   ]
  },
  {
   "cell_type": "code",
   "execution_count": 0,
   "metadata": {
    "colab": {},
    "colab_type": "code",
    "id": "ymbb56LCXotY"
   },
   "outputs": [],
   "source": [
    "mta['interval'] = mta['interval'].astype('int')\n",
    "mta['latitude'] = mta['latitude'].astype('float')\n",
    "mta['longitude'] = mta['longitude'].astype('float')"
   ]
  },
  {
   "cell_type": "code",
   "execution_count": 0,
   "metadata": {
    "colab": {},
    "colab_type": "code",
    "id": "otsvMnJklAF1"
   },
   "outputs": [],
   "source": [
    "def clean_uber(df):\n",
    "    df['interval'] = pd.to_datetime(df['pickup_datetime']).dt.hour\n",
    "    df.columns = ['datetime','latitude','longitude','base','interval']\n",
    "    df['ride_type'] = 'uber'\n",
    "    return df[['ride_type','interval','latitude','longitude']]"
   ]
  },
  {
   "cell_type": "code",
   "execution_count": 8,
   "metadata": {
    "colab": {
     "base_uri": "https://localhost:8080/",
     "height": 204
    },
    "colab_type": "code",
    "id": "YO9fMya9lB8p",
    "outputId": "011e011e-f7b9-4cf0-85f9-688f2291409c"
   },
   "outputs": [
    {
     "data": {
      "text/html": [
       "<div>\n",
       "<style scoped>\n",
       "    .dataframe tbody tr th:only-of-type {\n",
       "        vertical-align: middle;\n",
       "    }\n",
       "\n",
       "    .dataframe tbody tr th {\n",
       "        vertical-align: top;\n",
       "    }\n",
       "\n",
       "    .dataframe thead th {\n",
       "        text-align: right;\n",
       "    }\n",
       "</style>\n",
       "<table border=\"1\" class=\"dataframe\">\n",
       "  <thead>\n",
       "    <tr style=\"text-align: right;\">\n",
       "      <th></th>\n",
       "      <th>ride_type</th>\n",
       "      <th>interval</th>\n",
       "      <th>latitude</th>\n",
       "      <th>longitude</th>\n",
       "    </tr>\n",
       "  </thead>\n",
       "  <tbody>\n",
       "    <tr>\n",
       "      <th>0</th>\n",
       "      <td>uber</td>\n",
       "      <td>0</td>\n",
       "      <td>40.7690</td>\n",
       "      <td>-73.9549</td>\n",
       "    </tr>\n",
       "    <tr>\n",
       "      <th>1</th>\n",
       "      <td>uber</td>\n",
       "      <td>0</td>\n",
       "      <td>40.7267</td>\n",
       "      <td>-74.0345</td>\n",
       "    </tr>\n",
       "    <tr>\n",
       "      <th>2</th>\n",
       "      <td>uber</td>\n",
       "      <td>0</td>\n",
       "      <td>40.7316</td>\n",
       "      <td>-73.9873</td>\n",
       "    </tr>\n",
       "    <tr>\n",
       "      <th>3</th>\n",
       "      <td>uber</td>\n",
       "      <td>0</td>\n",
       "      <td>40.7588</td>\n",
       "      <td>-73.9776</td>\n",
       "    </tr>\n",
       "    <tr>\n",
       "      <th>4</th>\n",
       "      <td>uber</td>\n",
       "      <td>0</td>\n",
       "      <td>40.7594</td>\n",
       "      <td>-73.9722</td>\n",
       "    </tr>\n",
       "  </tbody>\n",
       "</table>\n",
       "</div>"
      ],
      "text/plain": [
       "  ride_type  interval  latitude  longitude\n",
       "0      uber         0   40.7690   -73.9549\n",
       "1      uber         0   40.7267   -74.0345\n",
       "2      uber         0   40.7316   -73.9873\n",
       "3      uber         0   40.7588   -73.9776\n",
       "4      uber         0   40.7594   -73.9722"
      ]
     },
     "execution_count": 8,
     "metadata": {
      "tags": []
     },
     "output_type": "execute_result"
    }
   ],
   "source": [
    "uber = clean_uber(uber)\n",
    "uber.head()"
   ]
  },
  {
   "cell_type": "code",
   "execution_count": 0,
   "metadata": {
    "colab": {},
    "colab_type": "code",
    "id": "av7DZmoylDYx"
   },
   "outputs": [],
   "source": [
    "def clean_taxi(df, taxi_type):\n",
    "    df['interval'] = pd.to_datetime(df['pickup_datetime']).dt.hour\n",
    "    df = df[['interval','pickup_latitude','pickup_longitude']]\n",
    "    df.columns = ['interval','latitude','longitude']\n",
    "    df['ride_type'] = taxi_type\n",
    "    return df[['ride_type','interval','latitude','longitude']]"
   ]
  },
  {
   "cell_type": "code",
   "execution_count": 10,
   "metadata": {
    "colab": {
     "base_uri": "https://localhost:8080/",
     "height": 306
    },
    "colab_type": "code",
    "id": "cG4iTE_alFEY",
    "outputId": "74b3fac4-f732-4556-cca9-3540281d7e57"
   },
   "outputs": [
    {
     "name": "stderr",
     "output_type": "stream",
     "text": [
      "/usr/local/lib/python3.6/dist-packages/ipykernel_launcher.py:5: SettingWithCopyWarning: \n",
      "A value is trying to be set on a copy of a slice from a DataFrame.\n",
      "Try using .loc[row_indexer,col_indexer] = value instead\n",
      "\n",
      "See the caveats in the documentation: http://pandas.pydata.org/pandas-docs/stable/indexing.html#indexing-view-versus-copy\n",
      "  \"\"\"\n"
     ]
    },
    {
     "data": {
      "text/html": [
       "<div>\n",
       "<style scoped>\n",
       "    .dataframe tbody tr th:only-of-type {\n",
       "        vertical-align: middle;\n",
       "    }\n",
       "\n",
       "    .dataframe tbody tr th {\n",
       "        vertical-align: top;\n",
       "    }\n",
       "\n",
       "    .dataframe thead th {\n",
       "        text-align: right;\n",
       "    }\n",
       "</style>\n",
       "<table border=\"1\" class=\"dataframe\">\n",
       "  <thead>\n",
       "    <tr style=\"text-align: right;\">\n",
       "      <th></th>\n",
       "      <th>ride_type</th>\n",
       "      <th>interval</th>\n",
       "      <th>latitude</th>\n",
       "      <th>longitude</th>\n",
       "    </tr>\n",
       "  </thead>\n",
       "  <tbody>\n",
       "    <tr>\n",
       "      <th>0</th>\n",
       "      <td>green</td>\n",
       "      <td>1</td>\n",
       "      <td>40.811172</td>\n",
       "      <td>-73.953545</td>\n",
       "    </tr>\n",
       "    <tr>\n",
       "      <th>1</th>\n",
       "      <td>green</td>\n",
       "      <td>20</td>\n",
       "      <td>40.714321</td>\n",
       "      <td>-73.946709</td>\n",
       "    </tr>\n",
       "    <tr>\n",
       "      <th>2</th>\n",
       "      <td>green</td>\n",
       "      <td>17</td>\n",
       "      <td>40.718094</td>\n",
       "      <td>-73.957626</td>\n",
       "    </tr>\n",
       "    <tr>\n",
       "      <th>3</th>\n",
       "      <td>green</td>\n",
       "      <td>2</td>\n",
       "      <td>40.713997</td>\n",
       "      <td>-73.949501</td>\n",
       "    </tr>\n",
       "    <tr>\n",
       "      <th>4</th>\n",
       "      <td>green</td>\n",
       "      <td>18</td>\n",
       "      <td>40.672195</td>\n",
       "      <td>-73.944092</td>\n",
       "    </tr>\n",
       "  </tbody>\n",
       "</table>\n",
       "</div>"
      ],
      "text/plain": [
       "  ride_type  interval   latitude  longitude\n",
       "0     green         1  40.811172 -73.953545\n",
       "1     green        20  40.714321 -73.946709\n",
       "2     green        17  40.718094 -73.957626\n",
       "3     green         2  40.713997 -73.949501\n",
       "4     green        18  40.672195 -73.944092"
      ]
     },
     "execution_count": 10,
     "metadata": {
      "tags": []
     },
     "output_type": "execute_result"
    }
   ],
   "source": [
    "green = clean_taxi(green, 'green')\n",
    "green.head()"
   ]
  },
  {
   "cell_type": "code",
   "execution_count": 11,
   "metadata": {
    "colab": {
     "base_uri": "https://localhost:8080/",
     "height": 306
    },
    "colab_type": "code",
    "id": "xMKbAIu6lHuO",
    "outputId": "7405484e-0cf6-42ef-fcd1-9d029d34f61b"
   },
   "outputs": [
    {
     "name": "stderr",
     "output_type": "stream",
     "text": [
      "/usr/local/lib/python3.6/dist-packages/ipykernel_launcher.py:5: SettingWithCopyWarning: \n",
      "A value is trying to be set on a copy of a slice from a DataFrame.\n",
      "Try using .loc[row_indexer,col_indexer] = value instead\n",
      "\n",
      "See the caveats in the documentation: http://pandas.pydata.org/pandas-docs/stable/indexing.html#indexing-view-versus-copy\n",
      "  \"\"\"\n"
     ]
    },
    {
     "data": {
      "text/html": [
       "<div>\n",
       "<style scoped>\n",
       "    .dataframe tbody tr th:only-of-type {\n",
       "        vertical-align: middle;\n",
       "    }\n",
       "\n",
       "    .dataframe tbody tr th {\n",
       "        vertical-align: top;\n",
       "    }\n",
       "\n",
       "    .dataframe thead th {\n",
       "        text-align: right;\n",
       "    }\n",
       "</style>\n",
       "<table border=\"1\" class=\"dataframe\">\n",
       "  <thead>\n",
       "    <tr style=\"text-align: right;\">\n",
       "      <th></th>\n",
       "      <th>ride_type</th>\n",
       "      <th>interval</th>\n",
       "      <th>latitude</th>\n",
       "      <th>longitude</th>\n",
       "    </tr>\n",
       "  </thead>\n",
       "  <tbody>\n",
       "    <tr>\n",
       "      <th>0</th>\n",
       "      <td>yellow</td>\n",
       "      <td>18</td>\n",
       "      <td>40.706284</td>\n",
       "      <td>-74.006033</td>\n",
       "    </tr>\n",
       "    <tr>\n",
       "      <th>1</th>\n",
       "      <td>yellow</td>\n",
       "      <td>15</td>\n",
       "      <td>40.749357</td>\n",
       "      <td>-73.979558</td>\n",
       "    </tr>\n",
       "    <tr>\n",
       "      <th>2</th>\n",
       "      <td>yellow</td>\n",
       "      <td>18</td>\n",
       "      <td>40.775307</td>\n",
       "      <td>-73.956453</td>\n",
       "    </tr>\n",
       "    <tr>\n",
       "      <th>3</th>\n",
       "      <td>yellow</td>\n",
       "      <td>19</td>\n",
       "      <td>40.757850</td>\n",
       "      <td>-73.987212</td>\n",
       "    </tr>\n",
       "    <tr>\n",
       "      <th>4</th>\n",
       "      <td>yellow</td>\n",
       "      <td>16</td>\n",
       "      <td>40.755397</td>\n",
       "      <td>-73.974292</td>\n",
       "    </tr>\n",
       "  </tbody>\n",
       "</table>\n",
       "</div>"
      ],
      "text/plain": [
       "  ride_type  interval   latitude  longitude\n",
       "0    yellow        18  40.706284 -74.006033\n",
       "1    yellow        15  40.749357 -73.979558\n",
       "2    yellow        18  40.775307 -73.956453\n",
       "3    yellow        19  40.757850 -73.987212\n",
       "4    yellow        16  40.755397 -73.974292"
      ]
     },
     "execution_count": 11,
     "metadata": {
      "tags": []
     },
     "output_type": "execute_result"
    }
   ],
   "source": [
    "yellow = clean_taxi(yellow, 'yellow')\n",
    "yellow.head()"
   ]
  },
  {
   "cell_type": "code",
   "execution_count": 0,
   "metadata": {
    "colab": {},
    "colab_type": "code",
    "id": "XU59ihh4U4Jl"
   },
   "outputs": [],
   "source": [
    "dfsize = int(2000000/4)\n",
    "mta =  mta.sample(n = dfsize, random_state=42)\n",
    "uber =  uber.sample(n = dfsize, random_state=42)\n",
    "green =  green.sample(n = dfsize, random_state=42)\n",
    "yellow =  yellow.sample(n = dfsize, random_state=42)"
   ]
  },
  {
   "cell_type": "code",
   "execution_count": 0,
   "metadata": {
    "colab": {},
    "colab_type": "code",
    "id": "544cLKroh1f7"
   },
   "outputs": [],
   "source": [
    "mta.to_csv('mta_sample.csv')\n",
    "uber.to_csv('uber_sample.csv')\n",
    "green.to_csv('green_sample.csv')\n",
    "yellow.to_csv('yellow_sample.csv')"
   ]
  },
  {
   "cell_type": "code",
   "execution_count": 0,
   "metadata": {
    "colab": {},
    "colab_type": "code",
    "id": "T5T1uGCVlMM3"
   },
   "outputs": [],
   "source": [
    "all_rides = pd.concat([mta,uber,green,yellow], ignore_index=True)"
   ]
  },
  {
   "cell_type": "code",
   "execution_count": 19,
   "metadata": {
    "colab": {
     "base_uri": "https://localhost:8080/",
     "height": 204
    },
    "colab_type": "code",
    "id": "NaGeU8QclN5H",
    "outputId": "9ae09ad4-e4c4-4fe8-f8d8-3ff5ce276d83"
   },
   "outputs": [
    {
     "data": {
      "text/html": [
       "<div>\n",
       "<style scoped>\n",
       "    .dataframe tbody tr th:only-of-type {\n",
       "        vertical-align: middle;\n",
       "    }\n",
       "\n",
       "    .dataframe tbody tr th {\n",
       "        vertical-align: top;\n",
       "    }\n",
       "\n",
       "    .dataframe thead th {\n",
       "        text-align: right;\n",
       "    }\n",
       "</style>\n",
       "<table border=\"1\" class=\"dataframe\">\n",
       "  <thead>\n",
       "    <tr style=\"text-align: right;\">\n",
       "      <th></th>\n",
       "      <th>ride_type</th>\n",
       "      <th>interval</th>\n",
       "      <th>latitude</th>\n",
       "      <th>longitude</th>\n",
       "    </tr>\n",
       "  </thead>\n",
       "  <tbody>\n",
       "    <tr>\n",
       "      <th>0</th>\n",
       "      <td>mta</td>\n",
       "      <td>16</td>\n",
       "      <td>40.754672</td>\n",
       "      <td>-73.986754</td>\n",
       "    </tr>\n",
       "    <tr>\n",
       "      <th>1</th>\n",
       "      <td>mta</td>\n",
       "      <td>12</td>\n",
       "      <td>40.754672</td>\n",
       "      <td>-73.986754</td>\n",
       "    </tr>\n",
       "    <tr>\n",
       "      <th>2</th>\n",
       "      <td>mta</td>\n",
       "      <td>20</td>\n",
       "      <td>40.706821</td>\n",
       "      <td>-74.009100</td>\n",
       "    </tr>\n",
       "    <tr>\n",
       "      <th>3</th>\n",
       "      <td>mta</td>\n",
       "      <td>8</td>\n",
       "      <td>40.751776</td>\n",
       "      <td>-73.976848</td>\n",
       "    </tr>\n",
       "    <tr>\n",
       "      <th>4</th>\n",
       "      <td>mta</td>\n",
       "      <td>16</td>\n",
       "      <td>40.746644</td>\n",
       "      <td>-73.891338</td>\n",
       "    </tr>\n",
       "  </tbody>\n",
       "</table>\n",
       "</div>"
      ],
      "text/plain": [
       "  ride_type  interval   latitude  longitude\n",
       "0       mta        16  40.754672 -73.986754\n",
       "1       mta        12  40.754672 -73.986754\n",
       "2       mta        20  40.706821 -74.009100\n",
       "3       mta         8  40.751776 -73.976848\n",
       "4       mta        16  40.746644 -73.891338"
      ]
     },
     "execution_count": 19,
     "metadata": {
      "tags": []
     },
     "output_type": "execute_result"
    }
   ],
   "source": [
    "all_rides.head()"
   ]
  },
  {
   "cell_type": "code",
   "execution_count": 21,
   "metadata": {
    "colab": {
     "base_uri": "https://localhost:8080/",
     "height": 34
    },
    "colab_type": "code",
    "id": "QxvvqbyXlXM6",
    "outputId": "6ee6699b-cc28-41f6-a5f4-a1d0fa776274"
   },
   "outputs": [
    {
     "data": {
      "text/plain": [
       "(2000000, 4)"
      ]
     },
     "execution_count": 21,
     "metadata": {
      "tags": []
     },
     "output_type": "execute_result"
    }
   ],
   "source": [
    "all_rides.shape"
   ]
  },
  {
   "cell_type": "markdown",
   "metadata": {
    "colab_type": "text",
    "id": "8lV45KzRluvN"
   },
   "source": [
    "Clustering"
   ]
  },
  {
   "cell_type": "code",
   "execution_count": 0,
   "metadata": {
    "colab": {},
    "colab_type": "code",
    "id": "F0INxSCxlv2V"
   },
   "outputs": [],
   "source": [
    "X = all_rides.to_numpy()[:,1:]"
   ]
  },
  {
   "cell_type": "code",
   "execution_count": 27,
   "metadata": {
    "colab": {
     "base_uri": "https://localhost:8080/",
     "height": 295
    },
    "colab_type": "code",
    "id": "9EZFhbSQmU_O",
    "outputId": "6dd9db09-930c-4ff3-9254-2b8509a8acb0"
   },
   "outputs": [
    {
     "data": {
      "image/png": "[encoded data removed]",
      "text/plain": [
       "<Figure size 432x288 with 1 Axes>"
      ]
     },
     "metadata": {
      "tags": []
     },
     "output_type": "display_data"
    }
   ],
   "source": [
    "elbow = []\n",
    "for i in range(1, 10):\n",
    "    kmeans = KMeans(n_clusters=i, random_state=42)\n",
    "    kmeans.fit(X)\n",
    "    elbow.append(kmeans.inertia_)\n",
    "plt.plot(range(1, 11), elbow)\n",
    "plt.title('Elbow Method')\n",
    "plt.xlabel('Number of clusters')\n",
    "plt.show()"
   ]
  },
  {
   "cell_type": "markdown",
   "metadata": {
    "colab_type": "text",
    "id": "kYQPHzq-qu-P"
   },
   "source": [
    "According to the Elbow plot, we decide to use 5 clusters. "
   ]
  },
  {
   "cell_type": "code",
   "execution_count": 0,
   "metadata": {
    "colab": {},
    "colab_type": "code",
    "id": "GS_2VRTlnYi-"
   },
   "outputs": [],
   "source": [
    "kmeans = KMeans(n_clusters=5, init='k-means++', random_state=42) \n",
    "kmeans.fit(X)\n",
    "c = kmeans.predict(X) "
   ]
  },
  {
   "cell_type": "code",
   "execution_count": 0,
   "metadata": {
    "colab": {},
    "colab_type": "code",
    "id": "clwJwvEmpYdU"
   },
   "outputs": [],
   "source": [
    "all_rides['cluster'] = c"
   ]
  },
  {
   "cell_type": "code",
   "execution_count": 43,
   "metadata": {
    "colab": {
     "base_uri": "https://localhost:8080/",
     "height": 204
    },
    "colab_type": "code",
    "id": "vV-6IGAJqDqO",
    "outputId": "67cc0a39-00c8-4f76-b787-7432d1f5f0d3"
   },
   "outputs": [
    {
     "data": {
      "text/html": [
       "<div>\n",
       "<style scoped>\n",
       "    .dataframe tbody tr th:only-of-type {\n",
       "        vertical-align: middle;\n",
       "    }\n",
       "\n",
       "    .dataframe tbody tr th {\n",
       "        vertical-align: top;\n",
       "    }\n",
       "\n",
       "    .dataframe thead th {\n",
       "        text-align: right;\n",
       "    }\n",
       "</style>\n",
       "<table border=\"1\" class=\"dataframe\">\n",
       "  <thead>\n",
       "    <tr style=\"text-align: right;\">\n",
       "      <th></th>\n",
       "      <th>ride_type</th>\n",
       "      <th>interval</th>\n",
       "      <th>latitude</th>\n",
       "      <th>longitude</th>\n",
       "      <th>cluster</th>\n",
       "    </tr>\n",
       "  </thead>\n",
       "  <tbody>\n",
       "    <tr>\n",
       "      <th>0</th>\n",
       "      <td>mta</td>\n",
       "      <td>16</td>\n",
       "      <td>40.754672</td>\n",
       "      <td>-73.986754</td>\n",
       "      <td>4</td>\n",
       "    </tr>\n",
       "    <tr>\n",
       "      <th>1</th>\n",
       "      <td>mta</td>\n",
       "      <td>12</td>\n",
       "      <td>40.754672</td>\n",
       "      <td>-73.986754</td>\n",
       "      <td>0</td>\n",
       "    </tr>\n",
       "    <tr>\n",
       "      <th>2</th>\n",
       "      <td>mta</td>\n",
       "      <td>20</td>\n",
       "      <td>40.706821</td>\n",
       "      <td>-74.009100</td>\n",
       "      <td>1</td>\n",
       "    </tr>\n",
       "    <tr>\n",
       "      <th>3</th>\n",
       "      <td>mta</td>\n",
       "      <td>8</td>\n",
       "      <td>40.751776</td>\n",
       "      <td>-73.976848</td>\n",
       "      <td>0</td>\n",
       "    </tr>\n",
       "    <tr>\n",
       "      <th>4</th>\n",
       "      <td>mta</td>\n",
       "      <td>16</td>\n",
       "      <td>40.746644</td>\n",
       "      <td>-73.891338</td>\n",
       "      <td>4</td>\n",
       "    </tr>\n",
       "  </tbody>\n",
       "</table>\n",
       "</div>"
      ],
      "text/plain": [
       "  ride_type  interval   latitude  longitude  cluster\n",
       "0       mta        16  40.754672 -73.986754        4\n",
       "1       mta        12  40.754672 -73.986754        0\n",
       "2       mta        20  40.706821 -74.009100        1\n",
       "3       mta         8  40.751776 -73.976848        0\n",
       "4       mta        16  40.746644 -73.891338        4"
      ]
     },
     "execution_count": 43,
     "metadata": {
      "tags": []
     },
     "output_type": "execute_result"
    }
   ],
   "source": [
    "all_rides.head()"
   ]
  },
  {
   "cell_type": "code",
   "execution_count": 0,
   "metadata": {
    "colab": {},
    "colab_type": "code",
    "id": "KptWXkpiqow6"
   },
   "outputs": [],
   "source": []
  }
 ],
 "metadata": {
  "colab": {
   "collapsed_sections": [],
   "machine_shape": "hm",
   "name": "DS4A_team3.ipynb",
   "provenance": []
  },
  "kernelspec": {
   "display_name": "Python 3",
   "language": "python",
   "name": "python3"
  },
  "language_info": {
   "codemirror_mode": {
    "name": "ipython",
    "version": 3
   },
   "file_extension": ".py",
   "mimetype": "text/x-python",
   "name": "python",
   "nbconvert_exporter": "python",
   "pygments_lexer": "ipython3",
   "version": "3.7.3"
  }
 },
 "nbformat": 4,
 "nbformat_minor": 1
}

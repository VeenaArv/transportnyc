{
 "cells": [
  {
   "cell_type": "markdown",
   "metadata": {},
   "source": [
    "**interval starts from 0**\n",
    "\n",
    "i.e. 0 is 0:00-3:59, 5 is 20:00-23:59"
   ]
  },
  {
   "cell_type": "code",
   "execution_count": 6,
   "metadata": {},
   "outputs": [],
   "source": [
    "import pandas as pd"
   ]
  },
  {
   "cell_type": "markdown",
   "metadata": {},
   "source": [
    "a way without defining a function"
   ]
  },
  {
   "cell_type": "code",
   "execution_count": null,
   "metadata": {},
   "outputs": [],
   "source": [
    "#just copy and paste, and change 'df' and the 'pickup_datetime' to the name of your dataframe and datetime column in the dataframe\n",
    "df['interval'] = (pd.to_datetime(df['pickup_datetime']).dt.hour)//4"
   ]
  },
  {
   "cell_type": "markdown",
   "metadata": {},
   "source": [
    "a function way (essentially the same as the previous one)"
   ]
  },
  {
   "cell_type": "code",
   "execution_count": 11,
   "metadata": {},
   "outputs": [],
   "source": [
    "def time2interval(df, colname):\n",
    "# Input a dataframe and a datetime column, add another 'interval' column to the given dateframe \n",
    "\n",
    "# df: input dataframe \n",
    "# colname: name of the column which contains time\n",
    "\n",
    "    df['interval'] = (pd.to_datetime(df[colname]).dt.hour)//4\n",
    "    "
   ]
  }
 ],
 "metadata": {
  "kernelspec": {
   "display_name": "Python 3",
   "language": "python",
   "name": "python3"
  },
  "language_info": {
   "codemirror_mode": {
    "name": "ipython",
    "version": 3
   },
   "file_extension": ".py",
   "mimetype": "text/x-python",
   "name": "python",
   "nbconvert_exporter": "python",
   "pygments_lexer": "ipython3",
   "version": "3.7.3"
  }
 },
 "nbformat": 4,
 "nbformat_minor": 2
}
